{
 "cells": [
  {
   "cell_type": "code",
   "execution_count": 38,
   "metadata": {},
   "outputs": [],
   "source": [
    "import pandas as pd"
   ]
  },
  {
   "cell_type": "code",
   "execution_count": 39,
   "metadata": {},
   "outputs": [],
   "source": [
    "df = pd.read_csv('custom_sales_data.csv')"
   ]
  },
  {
   "cell_type": "code",
   "execution_count": 129,
   "metadata": {},
   "outputs": [],
   "source": [
    "import numpy as np\n",
    "import pandas as pd\n",
    "\n",
    "#plotting libraries\n",
    "import matplotlib.pyplot as plt\n",
    "import seaborn as sns\n",
    "\n",
    "import sklearn.metrics\n",
    "#data preprocessing for the models. Never preprocess before exploration if you can help it\n",
    "from sklearn.preprocessing import LabelEncoder\n",
    "from sklearn.preprocessing import MinMaxScaler\n",
    "\n",
    "#Selecting train and test data.\n",
    "from sklearn.model_selection import train_test_split\n",
    "\n",
    "#metrics to check our model performance\n",
    "from sklearn.metrics import mean_squared_error, mean_absolute_error\n",
    "\n",
    "#remove warnings every time we plot or apply a model to make notebook prettier\n",
    "import warnings\n",
    "warnings.filterwarnings('ignore')\n",
    "\n",
    "#graphs are displayed in the cell. Magic functions op\n",
    "%matplotlib inline"
   ]
  },
  {
   "cell_type": "code",
   "execution_count": 41,
   "metadata": {},
   "outputs": [],
   "source": [
    "class StatisticalModelImplenter():\n",
    "    \n",
    "    '''\n",
    "    Parent class containing common functions \n",
    "    '''\n",
    "    def __init__(self):\n",
    "\n",
    "        self.all_models = []\n",
    "        self.all_model_names = []\n",
    "\n",
    "    def get_models(self):\n",
    "\n",
    "        '''\n",
    "        returns a dictionary containing names with the corosponing model\n",
    "        '''\n",
    "        model_dict = {self.all_models[i]: self.all_model_names[i] for i in range(len(self.all_models))}\n",
    "        return model_dict\n",
    "\n",
    "    def fit_train(self, x_train, y_train):\n",
    "        \n",
    "        self.x_train = x_train\n",
    "        self.y_train = y_train\n",
    "\n",
    "    def fit_test_set(self, user_x_test, user_y_test):\n",
    "\n",
    "        self.x_test = user_x_test\n",
    "        self.y_test = user_y_test\n",
    "\n",
    "    def apply_metric(self,  metric):\n",
    "\n",
    "        metric_list = []\n",
    "        for _, model in enumerate(self.all_models):\n",
    "            metric_item = metric(self.y_test, model.predict(self.x_test))\n",
    "            metric_list.append(metric_item)\n",
    "\n",
    "        self.report_printer(metric_list)\n",
    "\n",
    "    def report_printer(self, list_of_metric):\n",
    "\n",
    "        all_model_metrics = dict(zip(self.all_model_names, list_of_metric))\n",
    "\n",
    "        for name, matrix in all_model_metrics.items():\n",
    "            print('{}\\n{}\\n\\n'.format(name, matrix))\n",
    "            \n",
    "    def best_model(self):\n",
    "        \n",
    "        output_count = []\n",
    "        for _, model in enumerate(self.all_models):\n",
    "            \n",
    "            list_of_outputs = list(model.predict(self.__x_test))\n",
    "            output_count.append(self.count_values(list_of_outputs))\n",
    "        \n",
    "        max_predicted_val = self.count_values(output_count)\n",
    "        print(max_predicted_val)"
   ]
  },
  {
   "cell_type": "code",
   "execution_count": 42,
   "metadata": {},
   "outputs": [],
   "source": [
    "from sklearn.linear_model import LinearRegression\n",
    "from sklearn.tree import DecisionTreeRegressor\n",
    "from sklearn.svm import SVR\n",
    "\n",
    "# ensemble models for better performance in classification\n",
    "from sklearn.ensemble import AdaBoostRegressor\n",
    "from sklearn.ensemble import RandomForestRegressor"
   ]
  },
  {
   "cell_type": "code",
   "execution_count": 326,
   "metadata": {},
   "outputs": [],
   "source": [
    "def root_mean_squared_error(y_real, y_predicted):\n",
    "    return np.sqrt(mean_squared_error(y_real, y_predicted))\n",
    "\n",
    "class Regression(StatisticalModelImplenter):\n",
    "    '''\n",
    "    This class implements multiple regression algorithms to already encoded and scaled data. \n",
    "    It required the data to be numeric and divided into train and test sets.\n",
    "    '''\n",
    "    def __init__(self):\n",
    "\n",
    "        self.linear_regressor = LinearRegression()\n",
    "        self.support_vector_regressor = SVR()\n",
    "        self.decision_tree_regressor = DecisionTreeRegressor()\n",
    "        self.random_forest_regressor = RandomForestRegressor()\n",
    "        self.adaboost_regressor = AdaBoostRegressor()\n",
    "                \n",
    "        self.all_models = [self.linear_regressor, self.support_vector_regressor, self.decision_tree_regressor, \n",
    "                           self.random_forest_regressor, self.adaboost_regressor]\n",
    "        self.all_model_names = ['Linear Regression', 'Support Vector Regressor', 'Decision Tree Regressor', \n",
    "                           'Random Forest Regressor', 'Adaboost Regressor']\n",
    "        \n",
    "        self.metric_names = ['Train Score', 'Test Score', 'Classification Report', 'Confusion Matrix',\n",
    "                            'F1 Score', 'Accuracy Score']\n",
    "        self.train_scores = []\n",
    "        self.test_scores = []        \n",
    "        self.metric_list = [mean_absolute_error, mean_squared_error, root_mean_squared_error]\n",
    "        self.metrics = []\n",
    "        data = {'Model Names': self.all_model_names}\n",
    "        self.all_model_info = pd.DataFrame(data)\n",
    "    \n",
    "    def fit(self, x_train, x_test, y_train, y_test):\n",
    "        '''\n",
    "        fits models to data and stores results for metrics\n",
    "        '''\n",
    "        self.x_train = x_train\n",
    "        self.x_test = x_test\n",
    "        self.y_train = y_train\n",
    "        self.y_test = y_test\n",
    "\n",
    "        for model in self.all_models:\n",
    "            model.fit(x_train, y_train)\n",
    "            \n",
    "            train_score = model.score(x_train,y_train)\n",
    "            self.train_scores.append(train_score)\n",
    "            \n",
    "            test_score = model.score(x_train,y_train)\n",
    "            self.test_scores.append(train_score)\n",
    "            y_predict = model.predict(self.x_test)\n",
    "            \n",
    "        self.all_model_info['Train Score'] = self.train_scores\n",
    "        self.all_model_info['Test Score'] = self.test_scores\n",
    "        self.apply_metrics()\n",
    "\n",
    "    def apply_metrics(self):\n",
    "        self.metrics = []\n",
    "        for metric in self.metric_list:\n",
    "            metric_name = str(metric).split(' ')[1]\n",
    "            print(metric_name)\n",
    "            for model in self.all_models:\n",
    "                metric_item = metric(self.y_test, model.predict(self.x_test))\n",
    "                self.metrics.append(metric_item)\n",
    "                \n",
    "            self.all_model_info[metric_name] = self.metrics\n",
    "            self.metrics = []\n",
    "\n",
    "    def display_report(self):\n",
    "        return self.all_model_info"
   ]
  },
  {
   "cell_type": "code",
   "execution_count": 327,
   "metadata": {},
   "outputs": [],
   "source": [
    "r = Regression()"
   ]
  },
  {
   "cell_type": "code",
   "execution_count": 328,
   "metadata": {},
   "outputs": [
    {
     "name": "stdout",
     "output_type": "stream",
     "text": [
      "mean_absolute_error\n",
      "mean_squared_error\n",
      "root_mean_squared_error\n"
     ]
    }
   ],
   "source": [
    "r.fit(xtrain, xtest, ytrain, ytest)"
   ]
  },
  {
   "cell_type": "code",
   "execution_count": 329,
   "metadata": {},
   "outputs": [
    {
     "data": {
      "text/html": [
       "<div>\n",
       "<style scoped>\n",
       "    .dataframe tbody tr th:only-of-type {\n",
       "        vertical-align: middle;\n",
       "    }\n",
       "\n",
       "    .dataframe tbody tr th {\n",
       "        vertical-align: top;\n",
       "    }\n",
       "\n",
       "    .dataframe thead th {\n",
       "        text-align: right;\n",
       "    }\n",
       "</style>\n",
       "<table border=\"1\" class=\"dataframe\">\n",
       "  <thead>\n",
       "    <tr style=\"text-align: right;\">\n",
       "      <th></th>\n",
       "      <th>Model Names</th>\n",
       "      <th>Train Score</th>\n",
       "      <th>Test Score</th>\n",
       "      <th>mean_absolute_error</th>\n",
       "      <th>mean_squared_error</th>\n",
       "      <th>root_mean_squared_error</th>\n",
       "    </tr>\n",
       "  </thead>\n",
       "  <tbody>\n",
       "    <tr>\n",
       "      <th>0</th>\n",
       "      <td>Linear Regression</td>\n",
       "      <td>0.526584</td>\n",
       "      <td>0.526584</td>\n",
       "      <td>191.903998</td>\n",
       "      <td>62666.156834</td>\n",
       "      <td>250.332093</td>\n",
       "    </tr>\n",
       "    <tr>\n",
       "      <th>1</th>\n",
       "      <td>Support Vector Regressor</td>\n",
       "      <td>0.005486</td>\n",
       "      <td>0.005486</td>\n",
       "      <td>159.639918</td>\n",
       "      <td>34674.214065</td>\n",
       "      <td>186.210134</td>\n",
       "    </tr>\n",
       "    <tr>\n",
       "      <th>2</th>\n",
       "      <td>Decision Tree Regressor</td>\n",
       "      <td>1.000000</td>\n",
       "      <td>1.000000</td>\n",
       "      <td>195.714286</td>\n",
       "      <td>72414.285714</td>\n",
       "      <td>269.099026</td>\n",
       "    </tr>\n",
       "    <tr>\n",
       "      <th>3</th>\n",
       "      <td>Random Forest Regressor</td>\n",
       "      <td>0.876557</td>\n",
       "      <td>0.876557</td>\n",
       "      <td>165.685714</td>\n",
       "      <td>45897.580000</td>\n",
       "      <td>214.237205</td>\n",
       "    </tr>\n",
       "    <tr>\n",
       "      <th>4</th>\n",
       "      <td>Adaboost Regressor</td>\n",
       "      <td>0.982384</td>\n",
       "      <td>0.982384</td>\n",
       "      <td>199.234694</td>\n",
       "      <td>72835.732507</td>\n",
       "      <td>269.880960</td>\n",
       "    </tr>\n",
       "  </tbody>\n",
       "</table>\n",
       "</div>"
      ],
      "text/plain": [
       "                Model Names  Train Score  Test Score  mean_absolute_error  \\\n",
       "0         Linear Regression     0.526584    0.526584           191.903998   \n",
       "1  Support Vector Regressor     0.005486    0.005486           159.639918   \n",
       "2   Decision Tree Regressor     1.000000    1.000000           195.714286   \n",
       "3   Random Forest Regressor     0.876557    0.876557           165.685714   \n",
       "4        Adaboost Regressor     0.982384    0.982384           199.234694   \n",
       "\n",
       "   mean_squared_error  root_mean_squared_error  \n",
       "0        62666.156834               250.332093  \n",
       "1        34674.214065               186.210134  \n",
       "2        72414.285714               269.099026  \n",
       "3        45897.580000               214.237205  \n",
       "4        72835.732507               269.880960  "
      ]
     },
     "execution_count": 329,
     "metadata": {},
     "output_type": "execute_result"
    }
   ],
   "source": [
    "r.display_report()"
   ]
  },
  {
   "cell_type": "code",
   "execution_count": 44,
   "metadata": {},
   "outputs": [],
   "source": [
    "l1 = ['m1', 'm2', 'm3', 'm4', 'm5']\n",
    "l2 = ['m1', 'm2', 'm3', 'm4', 'm5']\n",
    "l3 = [1,2,3,4,5]\n",
    "l4 = ['m1', 'm2', 'm3', 'm4', 'm5']\n",
    "l5 = ['v1', 'v2', 'v3', 'v4', 'v5']"
   ]
  },
  {
   "cell_type": "code",
   "execution_count": 45,
   "metadata": {},
   "outputs": [],
   "source": [
    "s1 = pd.Series(l1)\n",
    "s2 = pd.Series(l2)\n",
    "s3 = pd.Series(l3)\n",
    "s4 = pd.Series(l4)\n",
    "s5 = pd.Series(l5)"
   ]
  },
  {
   "cell_type": "code",
   "execution_count": 46,
   "metadata": {},
   "outputs": [],
   "source": [
    "data = {'Model Names': s1, 'Models': s2, 'Value1': s3, 'Value2': s4, 'Value 5': s5}"
   ]
  },
  {
   "cell_type": "code",
   "execution_count": 73,
   "metadata": {},
   "outputs": [],
   "source": [
    "dfx = pd.DataFrame(data)"
   ]
  },
  {
   "cell_type": "code",
   "execution_count": 74,
   "metadata": {},
   "outputs": [
    {
     "data": {
      "text/html": [
       "<div>\n",
       "<style scoped>\n",
       "    .dataframe tbody tr th:only-of-type {\n",
       "        vertical-align: middle;\n",
       "    }\n",
       "\n",
       "    .dataframe tbody tr th {\n",
       "        vertical-align: top;\n",
       "    }\n",
       "\n",
       "    .dataframe thead th {\n",
       "        text-align: right;\n",
       "    }\n",
       "</style>\n",
       "<table border=\"1\" class=\"dataframe\">\n",
       "  <thead>\n",
       "    <tr style=\"text-align: right;\">\n",
       "      <th></th>\n",
       "      <th>Model Names</th>\n",
       "      <th>Models</th>\n",
       "      <th>Value1</th>\n",
       "      <th>Value2</th>\n",
       "      <th>Value 5</th>\n",
       "    </tr>\n",
       "  </thead>\n",
       "  <tbody>\n",
       "    <tr>\n",
       "      <th>0</th>\n",
       "      <td>m1</td>\n",
       "      <td>m1</td>\n",
       "      <td>1</td>\n",
       "      <td>m1</td>\n",
       "      <td>v1</td>\n",
       "    </tr>\n",
       "    <tr>\n",
       "      <th>1</th>\n",
       "      <td>m2</td>\n",
       "      <td>m2</td>\n",
       "      <td>2</td>\n",
       "      <td>m2</td>\n",
       "      <td>v2</td>\n",
       "    </tr>\n",
       "    <tr>\n",
       "      <th>2</th>\n",
       "      <td>m3</td>\n",
       "      <td>m3</td>\n",
       "      <td>3</td>\n",
       "      <td>m3</td>\n",
       "      <td>v3</td>\n",
       "    </tr>\n",
       "    <tr>\n",
       "      <th>3</th>\n",
       "      <td>m4</td>\n",
       "      <td>m4</td>\n",
       "      <td>4</td>\n",
       "      <td>m4</td>\n",
       "      <td>v4</td>\n",
       "    </tr>\n",
       "    <tr>\n",
       "      <th>4</th>\n",
       "      <td>m5</td>\n",
       "      <td>m5</td>\n",
       "      <td>5</td>\n",
       "      <td>m5</td>\n",
       "      <td>v5</td>\n",
       "    </tr>\n",
       "  </tbody>\n",
       "</table>\n",
       "</div>"
      ],
      "text/plain": [
       "  Model Names Models  Value1 Value2 Value 5\n",
       "0          m1     m1       1     m1      v1\n",
       "1          m2     m2       2     m2      v2\n",
       "2          m3     m3       3     m3      v3\n",
       "3          m4     m4       4     m4      v4\n",
       "4          m5     m5       5     m5      v5"
      ]
     },
     "execution_count": 74,
     "metadata": {},
     "output_type": "execute_result"
    }
   ],
   "source": [
    "dfx.head()"
   ]
  },
  {
   "cell_type": "code",
   "execution_count": 48,
   "metadata": {},
   "outputs": [
    {
     "data": {
      "text/html": [
       "<div>\n",
       "<style scoped>\n",
       "    .dataframe tbody tr th:only-of-type {\n",
       "        vertical-align: middle;\n",
       "    }\n",
       "\n",
       "    .dataframe tbody tr th {\n",
       "        vertical-align: top;\n",
       "    }\n",
       "\n",
       "    .dataframe thead th {\n",
       "        text-align: right;\n",
       "    }\n",
       "</style>\n",
       "<table border=\"1\" class=\"dataframe\">\n",
       "  <thead>\n",
       "    <tr style=\"text-align: right;\">\n",
       "      <th></th>\n",
       "      <th>rating</th>\n",
       "      <th>sales_in_month_1</th>\n",
       "      <th>sales_in_month_2</th>\n",
       "      <th>sales_in_month_3</th>\n",
       "    </tr>\n",
       "  </thead>\n",
       "  <tbody>\n",
       "    <tr>\n",
       "      <th>0</th>\n",
       "      <td>NaN</td>\n",
       "      <td>200</td>\n",
       "      <td>500</td>\n",
       "      <td>300</td>\n",
       "    </tr>\n",
       "    <tr>\n",
       "      <th>1</th>\n",
       "      <td>NaN</td>\n",
       "      <td>400</td>\n",
       "      <td>300</td>\n",
       "      <td>250</td>\n",
       "    </tr>\n",
       "    <tr>\n",
       "      <th>2</th>\n",
       "      <td>four</td>\n",
       "      <td>600</td>\n",
       "      <td>200</td>\n",
       "      <td>400</td>\n",
       "    </tr>\n",
       "    <tr>\n",
       "      <th>3</th>\n",
       "      <td>nine</td>\n",
       "      <td>450</td>\n",
       "      <td>320</td>\n",
       "      <td>650</td>\n",
       "    </tr>\n",
       "    <tr>\n",
       "      <th>4</th>\n",
       "      <td>seven</td>\n",
       "      <td>600</td>\n",
       "      <td>250</td>\n",
       "      <td>350</td>\n",
       "    </tr>\n",
       "  </tbody>\n",
       "</table>\n",
       "</div>"
      ],
      "text/plain": [
       "  rating  sales_in_month_1  sales_in_month_2  sales_in_month_3\n",
       "0    NaN               200               500               300\n",
       "1    NaN               400               300               250\n",
       "2   four               600               200               400\n",
       "3   nine               450               320               650\n",
       "4  seven               600               250               350"
      ]
     },
     "execution_count": 48,
     "metadata": {},
     "output_type": "execute_result"
    }
   ],
   "source": [
    "df.head()"
   ]
  },
  {
   "cell_type": "code",
   "execution_count": 49,
   "metadata": {},
   "outputs": [
    {
     "data": {
      "text/html": [
       "<div>\n",
       "<style scoped>\n",
       "    .dataframe tbody tr th:only-of-type {\n",
       "        vertical-align: middle;\n",
       "    }\n",
       "\n",
       "    .dataframe tbody tr th {\n",
       "        vertical-align: top;\n",
       "    }\n",
       "\n",
       "    .dataframe thead th {\n",
       "        text-align: right;\n",
       "    }\n",
       "</style>\n",
       "<table border=\"1\" class=\"dataframe\">\n",
       "  <thead>\n",
       "    <tr style=\"text-align: right;\">\n",
       "      <th></th>\n",
       "      <th>rating</th>\n",
       "      <th>sales_in_month_1</th>\n",
       "      <th>sales_in_month_2</th>\n",
       "      <th>sales_in_month_3</th>\n",
       "    </tr>\n",
       "  </thead>\n",
       "  <tbody>\n",
       "    <tr>\n",
       "      <th>0</th>\n",
       "      <td>0</td>\n",
       "      <td>200</td>\n",
       "      <td>500</td>\n",
       "      <td>300</td>\n",
       "    </tr>\n",
       "    <tr>\n",
       "      <th>1</th>\n",
       "      <td>0</td>\n",
       "      <td>400</td>\n",
       "      <td>300</td>\n",
       "      <td>250</td>\n",
       "    </tr>\n",
       "    <tr>\n",
       "      <th>2</th>\n",
       "      <td>four</td>\n",
       "      <td>600</td>\n",
       "      <td>200</td>\n",
       "      <td>400</td>\n",
       "    </tr>\n",
       "    <tr>\n",
       "      <th>3</th>\n",
       "      <td>nine</td>\n",
       "      <td>450</td>\n",
       "      <td>320</td>\n",
       "      <td>650</td>\n",
       "    </tr>\n",
       "    <tr>\n",
       "      <th>4</th>\n",
       "      <td>seven</td>\n",
       "      <td>600</td>\n",
       "      <td>250</td>\n",
       "      <td>350</td>\n",
       "    </tr>\n",
       "  </tbody>\n",
       "</table>\n",
       "</div>"
      ],
      "text/plain": [
       "  rating  sales_in_month_1  sales_in_month_2  sales_in_month_3\n",
       "0      0               200               500               300\n",
       "1      0               400               300               250\n",
       "2   four               600               200               400\n",
       "3   nine               450               320               650\n",
       "4  seven               600               250               350"
      ]
     },
     "execution_count": 49,
     "metadata": {},
     "output_type": "execute_result"
    }
   ],
   "source": [
    "df.fillna('0', inplace = True)\n",
    "df.head()"
   ]
  },
  {
   "cell_type": "code",
   "execution_count": 82,
   "metadata": {},
   "outputs": [
    {
     "data": {
      "text/plain": [
       "array([0, 3, 4, 6, 2, 8, 7, 1, 5, 9])"
      ]
     },
     "execution_count": 82,
     "metadata": {},
     "output_type": "execute_result"
    }
   ],
   "source": [
    "df['rating'].unique()"
   ]
  },
  {
   "cell_type": "code",
   "execution_count": 83,
   "metadata": {},
   "outputs": [],
   "source": [
    "le = LabelEncoder()\n",
    "df['rating'] = le.fit_transform(df['rating'])"
   ]
  },
  {
   "cell_type": "code",
   "execution_count": 84,
   "metadata": {},
   "outputs": [],
   "source": [
    "x = df.iloc[:, 0:3]\n",
    "y = df.iloc[:, -1]"
   ]
  },
  {
   "cell_type": "code",
   "execution_count": 85,
   "metadata": {},
   "outputs": [
    {
     "data": {
      "text/plain": [
       "array([0, 3, 4, 6, 2, 8, 7, 1, 5, 9], dtype=int64)"
      ]
     },
     "execution_count": 85,
     "metadata": {},
     "output_type": "execute_result"
    }
   ],
   "source": [
    "x['rating'].unique()"
   ]
  },
  {
   "cell_type": "code",
   "execution_count": 86,
   "metadata": {},
   "outputs": [],
   "source": [
    "xtrain, xtest, ytrain, ytest = train_test_split(x, y, test_size = 0.33)\n",
    "lr = LinearRegression()"
   ]
  },
  {
   "cell_type": "code",
   "execution_count": 87,
   "metadata": {},
   "outputs": [
    {
     "data": {
      "text/plain": [
       "LinearRegression()"
      ]
     },
     "execution_count": 87,
     "metadata": {},
     "output_type": "execute_result"
    }
   ],
   "source": [
    "lr.fit(xtrain, ytrain)"
   ]
  },
  {
   "cell_type": "code",
   "execution_count": 88,
   "metadata": {},
   "outputs": [],
   "source": [
    "train_scores = []\n",
    "test_scores = []"
   ]
  },
  {
   "cell_type": "code",
   "execution_count": 89,
   "metadata": {},
   "outputs": [
    {
     "name": "stdout",
     "output_type": "stream",
     "text": [
      "0.5265844496753407\n",
      "-0.955822729226498\n"
     ]
    }
   ],
   "source": [
    "print(lr.score(xtrain,ytrain))\n",
    "print(lr.score(xtest,ytest))\n",
    "x = lr.score(xtrain,ytrain)\n",
    "train_scores.append(x)\n",
    "x = lr.score(xtest,ytest)\n",
    "test_scores.append(x)"
   ]
  },
  {
   "cell_type": "code",
   "execution_count": null,
   "metadata": {},
   "outputs": [],
   "source": []
  },
  {
   "cell_type": "code",
   "execution_count": 90,
   "metadata": {},
   "outputs": [
    {
     "data": {
      "text/plain": [
       "SVR()"
      ]
     },
     "execution_count": 90,
     "metadata": {},
     "output_type": "execute_result"
    }
   ],
   "source": [
    "svr = SVR()\n",
    "svr.fit(xtrain, ytrain)"
   ]
  },
  {
   "cell_type": "code",
   "execution_count": 91,
   "metadata": {},
   "outputs": [
    {
     "data": {
      "text/plain": [
       "0.005485811813321861"
      ]
     },
     "execution_count": 91,
     "metadata": {},
     "output_type": "execute_result"
    }
   ],
   "source": [
    "svr.score(xtrain, ytrain)"
   ]
  },
  {
   "cell_type": "code",
   "execution_count": 92,
   "metadata": {},
   "outputs": [],
   "source": [
    "x = svr.score(xtrain,ytrain)\n",
    "train_scores.append(x)\n",
    "x = svr.score(xtest,ytest)\n",
    "test_scores.append(x)"
   ]
  },
  {
   "cell_type": "code",
   "execution_count": 93,
   "metadata": {},
   "outputs": [
    {
     "data": {
      "text/plain": [
       "1.0"
      ]
     },
     "execution_count": 93,
     "metadata": {},
     "output_type": "execute_result"
    }
   ],
   "source": [
    "dtr = DecisionTreeRegressor()\n",
    "dtr.fit(xtrain, ytrain)\n",
    "dtr.score(xtrain, ytrain)"
   ]
  },
  {
   "cell_type": "code",
   "execution_count": 94,
   "metadata": {},
   "outputs": [],
   "source": [
    "x = dtr.score(xtrain,ytrain)\n",
    "train_scores.append(x)\n",
    "x = dtr.score(xtest,ytest)\n",
    "test_scores.append(x)"
   ]
  },
  {
   "cell_type": "code",
   "execution_count": 95,
   "metadata": {},
   "outputs": [
    {
     "data": {
      "text/plain": [
       "0.8886010842644693"
      ]
     },
     "execution_count": 95,
     "metadata": {},
     "output_type": "execute_result"
    }
   ],
   "source": [
    "rfr = RandomForestRegressor()\n",
    "rfr.fit(xtrain, ytrain)\n",
    "rfr.score(xtrain, ytrain)"
   ]
  },
  {
   "cell_type": "code",
   "execution_count": 96,
   "metadata": {},
   "outputs": [],
   "source": [
    "x = rfr.score(xtrain,ytrain)\n",
    "train_scores.append(x)\n",
    "x = rfr.score(xtest,ytest)\n",
    "test_scores.append(x)"
   ]
  },
  {
   "cell_type": "code",
   "execution_count": 97,
   "metadata": {},
   "outputs": [
    {
     "data": {
      "text/plain": [
       "0.9849401371879887"
      ]
     },
     "execution_count": 97,
     "metadata": {},
     "output_type": "execute_result"
    }
   ],
   "source": [
    "abr = AdaBoostRegressor()\n",
    "abr.fit(xtrain, ytrain)\n",
    "abr.score(xtrain, ytrain)"
   ]
  },
  {
   "cell_type": "code",
   "execution_count": 98,
   "metadata": {},
   "outputs": [],
   "source": [
    "x = abr.score(xtrain,ytrain)\n",
    "train_scores.append(x)\n",
    "x = abr.score(xtest,ytest)\n",
    "test_scores.append(x)"
   ]
  },
  {
   "cell_type": "code",
   "execution_count": 99,
   "metadata": {},
   "outputs": [],
   "source": [
    "model_list = [lr, svr, rfr, dtr, abr]\n",
    "model_names = ['lr', 'svr', 'rfr', 'dtr', 'abr']"
   ]
  },
  {
   "cell_type": "code",
   "execution_count": 100,
   "metadata": {},
   "outputs": [
    {
     "data": {
      "text/html": [
       "<div>\n",
       "<style scoped>\n",
       "    .dataframe tbody tr th:only-of-type {\n",
       "        vertical-align: middle;\n",
       "    }\n",
       "\n",
       "    .dataframe tbody tr th {\n",
       "        vertical-align: top;\n",
       "    }\n",
       "\n",
       "    .dataframe thead th {\n",
       "        text-align: right;\n",
       "    }\n",
       "</style>\n",
       "<table border=\"1\" class=\"dataframe\">\n",
       "  <thead>\n",
       "    <tr style=\"text-align: right;\">\n",
       "      <th></th>\n",
       "      <th>Model_Names</th>\n",
       "      <th>Models</th>\n",
       "      <th>train_scores</th>\n",
       "      <th>test_Scores</th>\n",
       "    </tr>\n",
       "  </thead>\n",
       "  <tbody>\n",
       "    <tr>\n",
       "      <th>0</th>\n",
       "      <td>lr</td>\n",
       "      <td>LinearRegression()</td>\n",
       "      <td>0.526584</td>\n",
       "      <td>-0.955823</td>\n",
       "    </tr>\n",
       "    <tr>\n",
       "      <th>1</th>\n",
       "      <td>svr</td>\n",
       "      <td>SVR()</td>\n",
       "      <td>0.005486</td>\n",
       "      <td>-0.082189</td>\n",
       "    </tr>\n",
       "    <tr>\n",
       "      <th>2</th>\n",
       "      <td>rfr</td>\n",
       "      <td>(DecisionTreeRegressor(max_features='auto', ra...</td>\n",
       "      <td>1.000000</td>\n",
       "      <td>-1.942675</td>\n",
       "    </tr>\n",
       "    <tr>\n",
       "      <th>3</th>\n",
       "      <td>dtr</td>\n",
       "      <td>DecisionTreeRegressor()</td>\n",
       "      <td>0.888601</td>\n",
       "      <td>-0.565652</td>\n",
       "    </tr>\n",
       "    <tr>\n",
       "      <th>4</th>\n",
       "      <td>abr</td>\n",
       "      <td>(DecisionTreeRegressor(max_depth=3, random_sta...</td>\n",
       "      <td>0.984940</td>\n",
       "      <td>-0.768838</td>\n",
       "    </tr>\n",
       "  </tbody>\n",
       "</table>\n",
       "</div>"
      ],
      "text/plain": [
       "  Model_Names                                             Models  \\\n",
       "0          lr                                 LinearRegression()   \n",
       "1         svr                                              SVR()   \n",
       "2         rfr  (DecisionTreeRegressor(max_features='auto', ra...   \n",
       "3         dtr                            DecisionTreeRegressor()   \n",
       "4         abr  (DecisionTreeRegressor(max_depth=3, random_sta...   \n",
       "\n",
       "   train_scores  test_Scores  \n",
       "0      0.526584    -0.955823  \n",
       "1      0.005486    -0.082189  \n",
       "2      1.000000    -1.942675  \n",
       "3      0.888601    -0.565652  \n",
       "4      0.984940    -0.768838  "
      ]
     },
     "execution_count": 100,
     "metadata": {},
     "output_type": "execute_result"
    }
   ],
   "source": [
    "data2 = {'Model_Names': model_names, 'Models': model_list, 'train_scores': train_scores, 'test_Scores': test_scores}\n",
    "dfx = pd.DataFrame(data2)\n",
    "dfx"
   ]
  },
  {
   "cell_type": "code",
   "execution_count": 101,
   "metadata": {},
   "outputs": [
    {
     "data": {
      "text/plain": [
       "<function sklearn.metrics._classification.classification_report(y_true, y_pred, *, labels=None, target_names=None, sample_weight=None, digits=2, output_dict=False, zero_division='warn')>"
      ]
     },
     "execution_count": 101,
     "metadata": {},
     "output_type": "execute_result"
    }
   ],
   "source": [
    "classification_report"
   ]
  },
  {
   "cell_type": "code",
   "execution_count": null,
   "metadata": {},
   "outputs": [],
   "source": []
  }
 ],
 "metadata": {
  "kernelspec": {
   "display_name": "Python 3",
   "language": "python",
   "name": "python3"
  },
  "language_info": {
   "codemirror_mode": {
    "name": "ipython",
    "version": 3
   },
   "file_extension": ".py",
   "mimetype": "text/x-python",
   "name": "python",
   "nbconvert_exporter": "python",
   "pygments_lexer": "ipython3",
   "version": "3.7.6"
  }
 },
 "nbformat": 4,
 "nbformat_minor": 4
}
